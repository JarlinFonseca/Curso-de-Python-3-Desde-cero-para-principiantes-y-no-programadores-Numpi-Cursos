{
 "cells": [
  {
   "cell_type": "markdown",
   "id": "26ffe900",
   "metadata": {},
   "source": [
    "# Datos en Python\n",
    "\n",
    "En Python todo valor que pueda ser asignado a una variable tiene asociado un tipo de dato.\n",
    "\n",
    "Los tipos de datos básicos en Python son:\n",
    " - Los númericos (Enteros y Flotantes)\n",
    " - Los booleanos (Verdadero y Falso)\n",
    " - Las cadenas de caracteres"
   ]
  },
  {
   "cell_type": "markdown",
   "id": "a05b997b",
   "metadata": {},
   "source": [
    "# Datos númericos\n",
    "\n",
    "# Números enteros\n",
    "\n",
    "Los números enteros (integer) -> int, son todos los números enteros, pueden ser positivos o negativos\n"
   ]
  },
  {
   "cell_type": "code",
   "execution_count": 11,
   "id": "b5921947",
   "metadata": {},
   "outputs": [],
   "source": [
    "# Ejemplo int\n",
    "ejint = 1\n",
    "\n",
    "# Tambien int\n",
    "ejint2 = 3 + 1\n",
    "\n",
    "# De nuevo int\n",
    "ejint3 = -1"
   ]
  },
  {
   "cell_type": "code",
   "execution_count": 12,
   "id": "d4b6e37b",
   "metadata": {},
   "outputs": [
    {
     "data": {
      "text/plain": [
       "1"
      ]
     },
     "execution_count": 12,
     "metadata": {},
     "output_type": "execute_result"
    }
   ],
   "source": [
    "ejint"
   ]
  },
  {
   "cell_type": "code",
   "execution_count": 13,
   "id": "6d48b242",
   "metadata": {},
   "outputs": [
    {
     "data": {
      "text/plain": [
       "4"
      ]
     },
     "execution_count": 13,
     "metadata": {},
     "output_type": "execute_result"
    }
   ],
   "source": [
    "ejint2"
   ]
  },
  {
   "cell_type": "code",
   "execution_count": 14,
   "id": "550f1cb4",
   "metadata": {},
   "outputs": [
    {
     "data": {
      "text/plain": [
       "-1"
      ]
     },
     "execution_count": 14,
     "metadata": {},
     "output_type": "execute_result"
    }
   ],
   "source": [
    "ejint3"
   ]
  },
  {
   "cell_type": "markdown",
   "id": "700866da",
   "metadata": {},
   "source": [
    "# Números flotantes\n",
    "\n",
    "Los números flotantes (float), son todos los números con decimales, los números reales, pueden ser positivos o negativos\n"
   ]
  },
  {
   "cell_type": "code",
   "execution_count": 15,
   "id": "cfbe98eb",
   "metadata": {},
   "outputs": [],
   "source": [
    "# Ejemplo float\n",
    "ejfloat = 1.1\n",
    "\n",
    "# Ejemplo float tambien\n",
    "ejfloat2 = -2.4\n",
    "\n",
    "# Ejemplo float de nuevo\n",
    "ejfloat3 = 1/2"
   ]
  },
  {
   "cell_type": "code",
   "execution_count": 16,
   "id": "6c622a1f",
   "metadata": {},
   "outputs": [
    {
     "data": {
      "text/plain": [
       "1.1"
      ]
     },
     "execution_count": 16,
     "metadata": {},
     "output_type": "execute_result"
    }
   ],
   "source": [
    "ejfloat"
   ]
  },
  {
   "cell_type": "code",
   "execution_count": 17,
   "id": "92ed55f6",
   "metadata": {},
   "outputs": [
    {
     "data": {
      "text/plain": [
       "-2.4"
      ]
     },
     "execution_count": 17,
     "metadata": {},
     "output_type": "execute_result"
    }
   ],
   "source": [
    "ejfloat2"
   ]
  },
  {
   "cell_type": "code",
   "execution_count": 18,
   "id": "12727948",
   "metadata": {},
   "outputs": [
    {
     "data": {
      "text/plain": [
       "0.5"
      ]
     },
     "execution_count": 18,
     "metadata": {},
     "output_type": "execute_result"
    }
   ],
   "source": [
    "ejfloat3"
   ]
  },
  {
   "cell_type": "code",
   "execution_count": null,
   "id": "79fea125",
   "metadata": {},
   "outputs": [],
   "source": [
    "1.0"
   ]
  },
  {
   "cell_type": "code",
   "execution_count": null,
   "id": "761e23e2",
   "metadata": {},
   "outputs": [],
   "source": []
  },
  {
   "cell_type": "code",
   "execution_count": null,
   "id": "7e84efe6",
   "metadata": {},
   "outputs": [],
   "source": []
  },
  {
   "cell_type": "markdown",
   "id": "0fd1461b",
   "metadata": {},
   "source": [
    "# Función type()\n",
    "\n",
    "type() es una función de Python que nos permite identificar el tipo de dato de nuestra variable.\n",
    "\n",
    "Uso: type(variable)"
   ]
  },
  {
   "cell_type": "code",
   "execution_count": null,
   "id": "00eaa09c",
   "metadata": {},
   "outputs": [],
   "source": [
    "varnum = 1"
   ]
  },
  {
   "cell_type": "code",
   "execution_count": null,
   "id": "2664788b",
   "metadata": {},
   "outputs": [],
   "source": [
    "type(varnum)"
   ]
  },
  {
   "cell_type": "code",
   "execution_count": null,
   "id": "81081ca1",
   "metadata": {},
   "outputs": [],
   "source": [
    "type(1.0)"
   ]
  },
  {
   "cell_type": "code",
   "execution_count": null,
   "id": "6f56f40e",
   "metadata": {},
   "outputs": [],
   "source": [
    "type(True)"
   ]
  },
  {
   "cell_type": "code",
   "execution_count": null,
   "id": "5a0f00b7",
   "metadata": {},
   "outputs": [],
   "source": [
    "type('Hola')"
   ]
  },
  {
   "cell_type": "code",
   "execution_count": null,
   "id": "dfe7f275",
   "metadata": {},
   "outputs": [],
   "source": []
  },
  {
   "cell_type": "code",
   "execution_count": null,
   "id": "9061c1c0",
   "metadata": {},
   "outputs": [],
   "source": []
  },
  {
   "cell_type": "markdown",
   "id": "0b579c03",
   "metadata": {},
   "source": [
    "# Valores Booleanos\n",
    "\n",
    "En pyton existe el tipo de dato booleano, que cuenta con dos valores:\n",
    "\n",
    " - True (Verdadero) es la representación de que una condición se cumple, o es cierta.\n",
    " - False (Falos) es la representación de que una condición NO se cumple."
   ]
  },
  {
   "cell_type": "code",
   "execution_count": 6,
   "id": "e52f4f5b",
   "metadata": {},
   "outputs": [],
   "source": [
    "verd = True"
   ]
  },
  {
   "cell_type": "code",
   "execution_count": 7,
   "id": "d1b0be8c",
   "metadata": {},
   "outputs": [
    {
     "data": {
      "text/plain": [
       "True"
      ]
     },
     "execution_count": 7,
     "metadata": {},
     "output_type": "execute_result"
    }
   ],
   "source": [
    "verd"
   ]
  },
  {
   "cell_type": "code",
   "execution_count": 8,
   "id": "6afeec62",
   "metadata": {},
   "outputs": [],
   "source": [
    "falso = False"
   ]
  },
  {
   "cell_type": "code",
   "execution_count": 9,
   "id": "e9b46ed5",
   "metadata": {},
   "outputs": [
    {
     "data": {
      "text/plain": [
       "False"
      ]
     },
     "execution_count": 9,
     "metadata": {},
     "output_type": "execute_result"
    }
   ],
   "source": [
    "falso"
   ]
  },
  {
   "cell_type": "markdown",
   "id": "3560b1f8",
   "metadata": {},
   "source": [
    "Todas las siguientes condiciones tienen por default un valor False:\n",
    "- False.\n",
    "- None.\n",
    "- Número cero en todos los tipos.\n",
    "- Cadena de caracteres vaciás.\n",
    "- Contenedores, incluyendo cadenas de caracteres, tuplas, listas, diccionarios y conjuntos mutables e inmutables."
   ]
  },
  {
   "cell_type": "code",
   "execution_count": 10,
   "id": "7315306f",
   "metadata": {},
   "outputs": [
    {
     "data": {
      "text/plain": [
       "False"
      ]
     },
     "execution_count": 10,
     "metadata": {},
     "output_type": "execute_result"
    }
   ],
   "source": [
    "False"
   ]
  },
  {
   "cell_type": "code",
   "execution_count": 16,
   "id": "ec3e91cf",
   "metadata": {},
   "outputs": [
    {
     "data": {
      "text/plain": [
       "True"
      ]
     },
     "execution_count": 16,
     "metadata": {},
     "output_type": "execute_result"
    }
   ],
   "source": [
    "0 == False"
   ]
  },
  {
   "cell_type": "code",
   "execution_count": 21,
   "id": "e3cb6626",
   "metadata": {},
   "outputs": [],
   "source": [
    "bandera = True\n",
    "\n",
    "for contador in (1,2,3):\n",
    "    if contador == 3:\n",
    "        bandera = False\n",
    "        "
   ]
  },
  {
   "cell_type": "code",
   "execution_count": 22,
   "id": "e4983559",
   "metadata": {},
   "outputs": [
    {
     "data": {
      "text/plain": [
       "False"
      ]
     },
     "execution_count": 22,
     "metadata": {},
     "output_type": "execute_result"
    }
   ],
   "source": [
    "bandera"
   ]
  },
  {
   "cell_type": "code",
   "execution_count": null,
   "id": "d2d14fb6",
   "metadata": {},
   "outputs": [],
   "source": []
  },
  {
   "cell_type": "code",
   "execution_count": null,
   "id": "5cb11b6f",
   "metadata": {},
   "outputs": [],
   "source": []
  },
  {
   "cell_type": "markdown",
   "id": "7b0fca4e",
   "metadata": {},
   "source": [
    "# Cadenas de Texto en Python\n",
    "\n",
    "Las cadenas de texto son una secuencia de caracteres que representan un 'texto'\n",
    "\n",
    "En python se conocen como str (String), pueden representarse con comillas dobles (\") o comilla simple ('), se representan de la siguiente manera:\n",
    "- ejemstr = 'Hola Mundo'"
   ]
  },
  {
   "cell_type": "code",
   "execution_count": 23,
   "id": "a992de4b",
   "metadata": {},
   "outputs": [],
   "source": [
    "ejemstr = 'Hola Mundo'"
   ]
  },
  {
   "cell_type": "code",
   "execution_count": 24,
   "id": "fe5512b6",
   "metadata": {},
   "outputs": [
    {
     "data": {
      "text/plain": [
       "'Hola Mundo'"
      ]
     },
     "execution_count": 24,
     "metadata": {},
     "output_type": "execute_result"
    }
   ],
   "source": [
    "ejemstr"
   ]
  },
  {
   "cell_type": "code",
   "execution_count": 25,
   "id": "7aa2c2e5",
   "metadata": {},
   "outputs": [],
   "source": [
    "ejemstrDob = \"Hola Mundo\""
   ]
  },
  {
   "cell_type": "code",
   "execution_count": 26,
   "id": "18917e9b",
   "metadata": {},
   "outputs": [
    {
     "data": {
      "text/plain": [
       "'Hola Mundo'"
      ]
     },
     "execution_count": 26,
     "metadata": {},
     "output_type": "execute_result"
    }
   ],
   "source": [
    "ejemstrDob"
   ]
  },
  {
   "cell_type": "code",
   "execution_count": 27,
   "id": "e420e5b2",
   "metadata": {},
   "outputs": [
    {
     "ename": "SyntaxError",
     "evalue": "unterminated string literal (detected at line 1) (Temp/ipykernel_22400/4123695885.py, line 1)",
     "output_type": "error",
     "traceback": [
      "\u001b[1;36m  File \u001b[1;32m\"C:\\Users\\urpineda\\AppData\\Local\\Temp/ipykernel_22400/4123695885.py\"\u001b[1;36m, line \u001b[1;32m1\u001b[0m\n\u001b[1;33m    ejemstrBad = 'Hola Mundo\"\u001b[0m\n\u001b[1;37m                 ^\u001b[0m\n\u001b[1;31mSyntaxError\u001b[0m\u001b[1;31m:\u001b[0m unterminated string literal (detected at line 1)\n"
     ]
    }
   ],
   "source": [
    "ejemstrBad = 'Hola Mundo\""
   ]
  },
  {
   "cell_type": "code",
   "execution_count": 34,
   "id": "c6e6bf36",
   "metadata": {},
   "outputs": [],
   "source": [
    "s = \"Primer linea\\nSegunda linea\""
   ]
  },
  {
   "cell_type": "code",
   "execution_count": 36,
   "id": "cf1cabc3",
   "metadata": {},
   "outputs": [
    {
     "name": "stdout",
     "output_type": "stream",
     "text": [
      "Primer linea\n",
      "Segunda linea\n"
     ]
    }
   ],
   "source": [
    "print(s)"
   ]
  },
  {
   "cell_type": "code",
   "execution_count": null,
   "id": "032b6ec6",
   "metadata": {},
   "outputs": [],
   "source": []
  },
  {
   "cell_type": "code",
   "execution_count": null,
   "id": "f5cf2a12",
   "metadata": {},
   "outputs": [],
   "source": []
  },
  {
   "cell_type": "markdown",
   "id": "e51033b4",
   "metadata": {},
   "source": [
    "# Función len() en Python\n",
    "\n",
    "Python cuenta con una función para saber la longitud de una cadena de texto (str), una lista, una tupla, etc.\n",
    "\n",
    "La manera de usarla:\n",
    "\n",
    "- len(cadena)"
   ]
  },
  {
   "cell_type": "code",
   "execution_count": 28,
   "id": "c54cb407",
   "metadata": {},
   "outputs": [],
   "source": [
    "ejemstr = 'Hola Mundo'"
   ]
  },
  {
   "cell_type": "code",
   "execution_count": 29,
   "id": "b9c991ee",
   "metadata": {},
   "outputs": [
    {
     "data": {
      "text/plain": [
       "10"
      ]
     },
     "execution_count": 29,
     "metadata": {},
     "output_type": "execute_result"
    }
   ],
   "source": [
    "len(ejemstr)"
   ]
  },
  {
   "cell_type": "code",
   "execution_count": 30,
   "id": "ff81a82c",
   "metadata": {},
   "outputs": [],
   "source": [
    "ejemlst = [1,2,3,4]"
   ]
  },
  {
   "cell_type": "code",
   "execution_count": 31,
   "id": "95d2ec31",
   "metadata": {},
   "outputs": [
    {
     "data": {
      "text/plain": [
       "4"
      ]
     },
     "execution_count": 31,
     "metadata": {},
     "output_type": "execute_result"
    }
   ],
   "source": [
    "len(ejemlst)"
   ]
  },
  {
   "cell_type": "code",
   "execution_count": 32,
   "id": "59af2fbd",
   "metadata": {},
   "outputs": [],
   "source": [
    "varlen = len(ejemstr)"
   ]
  },
  {
   "cell_type": "code",
   "execution_count": 33,
   "id": "0900fddc",
   "metadata": {},
   "outputs": [
    {
     "data": {
      "text/plain": [
       "10"
      ]
     },
     "execution_count": 33,
     "metadata": {},
     "output_type": "execute_result"
    }
   ],
   "source": [
    "varlen"
   ]
  },
  {
   "cell_type": "code",
   "execution_count": null,
   "id": "0c3e39c1",
   "metadata": {},
   "outputs": [],
   "source": []
  },
  {
   "cell_type": "code",
   "execution_count": null,
   "id": "84e91bd2",
   "metadata": {},
   "outputs": [],
   "source": []
  },
  {
   "cell_type": "markdown",
   "id": "deef3f24",
   "metadata": {},
   "source": [
    "# Indices para str en Python\n",
    "\n",
    "Python permite partir la cadena de caracteres a partir de un índice, es decir, podemos encontrar en que parte de la cadena de texto hay alguna palabra, letra o caracter.\n",
    "\n",
    "Se logra de la siguiente manera:\n",
    "- str.index('parte a buscar')"
   ]
  },
  {
   "cell_type": "code",
   "execution_count": 37,
   "id": "e2b31e5f",
   "metadata": {},
   "outputs": [
    {
     "name": "stdout",
     "output_type": "stream",
     "text": [
      "16\n"
     ]
    }
   ],
   "source": [
    "s = 'Curso básico de Python'\n",
    "print(s.index('Py'))"
   ]
  },
  {
   "cell_type": "code",
   "execution_count": 38,
   "id": "f96a1767",
   "metadata": {},
   "outputs": [
    {
     "name": "stdout",
     "output_type": "stream",
     "text": [
      "0\n"
     ]
    }
   ],
   "source": [
    "print(s.index('C'))"
   ]
  },
  {
   "cell_type": "code",
   "execution_count": 39,
   "id": "6386e920",
   "metadata": {},
   "outputs": [
    {
     "ename": "ValueError",
     "evalue": "substring not found",
     "output_type": "error",
     "traceback": [
      "\u001b[1;31m---------------------------------------------------------------------------\u001b[0m",
      "\u001b[1;31mValueError\u001b[0m                                Traceback (most recent call last)",
      "\u001b[1;32m~\\AppData\\Local\\Temp/ipykernel_22400/438255921.py\u001b[0m in \u001b[0;36m<module>\u001b[1;34m\u001b[0m\n\u001b[1;32m----> 1\u001b[1;33m \u001b[0ms\u001b[0m\u001b[1;33m.\u001b[0m\u001b[0mindex\u001b[0m\u001b[1;33m(\u001b[0m\u001b[1;34m'py'\u001b[0m\u001b[1;33m)\u001b[0m\u001b[1;33m\u001b[0m\u001b[1;33m\u001b[0m\u001b[0m\n\u001b[0m",
      "\u001b[1;31mValueError\u001b[0m: substring not found"
     ]
    }
   ],
   "source": [
    "s.index('py')"
   ]
  },
  {
   "cell_type": "code",
   "execution_count": 40,
   "id": "c20ac9e0",
   "metadata": {},
   "outputs": [
    {
     "name": "stdout",
     "output_type": "stream",
     "text": [
      "C\n"
     ]
    }
   ],
   "source": [
    "print(s[0])"
   ]
  },
  {
   "cell_type": "code",
   "execution_count": 41,
   "id": "d8143d45",
   "metadata": {},
   "outputs": [
    {
     "ename": "IndexError",
     "evalue": "string index out of range",
     "output_type": "error",
     "traceback": [
      "\u001b[1;31m---------------------------------------------------------------------------\u001b[0m",
      "\u001b[1;31mIndexError\u001b[0m                                Traceback (most recent call last)",
      "\u001b[1;32m~\\AppData\\Local\\Temp/ipykernel_22400/2304718311.py\u001b[0m in \u001b[0;36m<module>\u001b[1;34m\u001b[0m\n\u001b[1;32m----> 1\u001b[1;33m \u001b[0mprint\u001b[0m\u001b[1;33m(\u001b[0m\u001b[0ms\u001b[0m\u001b[1;33m[\u001b[0m\u001b[1;36m33\u001b[0m\u001b[1;33m]\u001b[0m\u001b[1;33m)\u001b[0m\u001b[1;33m\u001b[0m\u001b[1;33m\u001b[0m\u001b[0m\n\u001b[0m",
      "\u001b[1;31mIndexError\u001b[0m: string index out of range"
     ]
    }
   ],
   "source": [
    "print(s[33])"
   ]
  },
  {
   "cell_type": "code",
   "execution_count": 42,
   "id": "827b79f7",
   "metadata": {},
   "outputs": [
    {
     "name": "stdout",
     "output_type": "stream",
     "text": [
      "n\n"
     ]
    }
   ],
   "source": [
    "print(s[-1])"
   ]
  },
  {
   "cell_type": "code",
   "execution_count": 43,
   "id": "145e2887",
   "metadata": {},
   "outputs": [
    {
     "name": "stdout",
     "output_type": "stream",
     "text": [
      "h\n"
     ]
    }
   ],
   "source": [
    "print(s[-3])"
   ]
  },
  {
   "cell_type": "code",
   "execution_count": 44,
   "id": "ba683e2f",
   "metadata": {},
   "outputs": [
    {
     "ename": "IndexError",
     "evalue": "string index out of range",
     "output_type": "error",
     "traceback": [
      "\u001b[1;31m---------------------------------------------------------------------------\u001b[0m",
      "\u001b[1;31mIndexError\u001b[0m                                Traceback (most recent call last)",
      "\u001b[1;32m~\\AppData\\Local\\Temp/ipykernel_22400/1249510282.py\u001b[0m in \u001b[0;36m<module>\u001b[1;34m\u001b[0m\n\u001b[1;32m----> 1\u001b[1;33m \u001b[0mprint\u001b[0m\u001b[1;33m(\u001b[0m\u001b[0ms\u001b[0m\u001b[1;33m[\u001b[0m\u001b[1;33m-\u001b[0m\u001b[1;36m33\u001b[0m\u001b[1;33m]\u001b[0m\u001b[1;33m)\u001b[0m\u001b[1;33m\u001b[0m\u001b[1;33m\u001b[0m\u001b[0m\n\u001b[0m",
      "\u001b[1;31mIndexError\u001b[0m: string index out of range"
     ]
    }
   ],
   "source": [
    "print(s[-33])"
   ]
  },
  {
   "cell_type": "code",
   "execution_count": null,
   "id": "7a9eb2d8",
   "metadata": {},
   "outputs": [],
   "source": []
  },
  {
   "cell_type": "code",
   "execution_count": null,
   "id": "80a37e7d",
   "metadata": {},
   "outputs": [],
   "source": []
  },
  {
   "cell_type": "markdown",
   "id": "d186716b",
   "metadata": {},
   "source": [
    "# Rebanar str en Python\n",
    "\n",
    "Python nos permite seleccionar unicamente partes de una cadena de texto, para ello, utilizamos la siguiente notación:\n",
    "\n",
    "- [inicio : fin : cuantos pasos]"
   ]
  },
  {
   "cell_type": "code",
   "execution_count": 45,
   "id": "05331553",
   "metadata": {},
   "outputs": [],
   "source": [
    "ejemstr = 'Ejemplo de Rebanar'"
   ]
  },
  {
   "cell_type": "code",
   "execution_count": 48,
   "id": "ec84e5c6",
   "metadata": {},
   "outputs": [
    {
     "data": {
      "text/plain": [
       "'Ejempl'"
      ]
     },
     "execution_count": 48,
     "metadata": {},
     "output_type": "execute_result"
    }
   ],
   "source": [
    "ejemstr[0:6:1]"
   ]
  },
  {
   "cell_type": "code",
   "execution_count": 50,
   "id": "2f7d0f50",
   "metadata": {},
   "outputs": [
    {
     "data": {
      "text/plain": [
       "'Eep'"
      ]
     },
     "execution_count": 50,
     "metadata": {},
     "output_type": "execute_result"
    }
   ],
   "source": [
    "ejemstr[0:6:2]"
   ]
  },
  {
   "cell_type": "code",
   "execution_count": 51,
   "id": "817a16ec",
   "metadata": {},
   "outputs": [
    {
     "data": {
      "text/plain": [
       "'Ejemplo de Rebanar'"
      ]
     },
     "execution_count": 51,
     "metadata": {},
     "output_type": "execute_result"
    }
   ],
   "source": [
    "ejemstr[::1]"
   ]
  },
  {
   "cell_type": "code",
   "execution_count": 52,
   "id": "86e9db4e",
   "metadata": {},
   "outputs": [
    {
     "data": {
      "text/plain": [
       "'epod eaa'"
      ]
     },
     "execution_count": 52,
     "metadata": {},
     "output_type": "execute_result"
    }
   ],
   "source": [
    "ejemstr[2::2]"
   ]
  },
  {
   "cell_type": "code",
   "execution_count": 53,
   "id": "2a8d88d4",
   "metadata": {},
   "outputs": [
    {
     "data": {
      "text/plain": [
       "'ranabeR ed olpmejE'"
      ]
     },
     "execution_count": 53,
     "metadata": {},
     "output_type": "execute_result"
    }
   ],
   "source": [
    "ejemstr[::-1]"
   ]
  },
  {
   "cell_type": "code",
   "execution_count": null,
   "id": "17a4038d",
   "metadata": {},
   "outputs": [],
   "source": []
  },
  {
   "cell_type": "code",
   "execution_count": null,
   "id": "c3c25f5e",
   "metadata": {},
   "outputs": [],
   "source": []
  },
  {
   "cell_type": "markdown",
   "id": "3f9eaf87",
   "metadata": {},
   "source": [
    "# Métodos de las cadenas de caracteres\n",
    "\n",
    "Python cuenta con distintos métodos o funciones que nos permiten obtener cierta info de una cadena de caracteres, los principales son:\n",
    "\n",
    "- upper() \n",
    "- lower()\n",
    "- capitalize()\n",
    "- title()\n",
    "- count()\n",
    "- find()\n",
    "- split()\n",
    "- join()\n",
    "- strip()\n",
    "- replace()"
   ]
  },
  {
   "cell_type": "code",
   "execution_count": 54,
   "id": "16463973",
   "metadata": {},
   "outputs": [],
   "source": [
    "cadena = 'hola mundo'"
   ]
  },
  {
   "cell_type": "code",
   "execution_count": 55,
   "id": "cc5c478e",
   "metadata": {},
   "outputs": [
    {
     "data": {
      "text/plain": [
       "'HOLA MUNDO'"
      ]
     },
     "execution_count": 55,
     "metadata": {},
     "output_type": "execute_result"
    }
   ],
   "source": [
    "cadena.upper()"
   ]
  },
  {
   "cell_type": "code",
   "execution_count": 56,
   "id": "f4ec8dd5",
   "metadata": {},
   "outputs": [
    {
     "data": {
      "text/plain": [
       "'hola mundo'"
      ]
     },
     "execution_count": 56,
     "metadata": {},
     "output_type": "execute_result"
    }
   ],
   "source": [
    "cadena.lower()"
   ]
  },
  {
   "cell_type": "code",
   "execution_count": 57,
   "id": "9598294d",
   "metadata": {},
   "outputs": [
    {
     "data": {
      "text/plain": [
       "'Hola mundo'"
      ]
     },
     "execution_count": 57,
     "metadata": {},
     "output_type": "execute_result"
    }
   ],
   "source": [
    "cadena.capitalize()"
   ]
  },
  {
   "cell_type": "code",
   "execution_count": 58,
   "id": "146f12a0",
   "metadata": {},
   "outputs": [
    {
     "data": {
      "text/plain": [
       "'Hola Mundo'"
      ]
     },
     "execution_count": 58,
     "metadata": {},
     "output_type": "execute_result"
    }
   ],
   "source": [
    "cadena.title()"
   ]
  },
  {
   "cell_type": "code",
   "execution_count": 59,
   "id": "4741e81f",
   "metadata": {},
   "outputs": [
    {
     "data": {
      "text/plain": [
       "2"
      ]
     },
     "execution_count": 59,
     "metadata": {},
     "output_type": "execute_result"
    }
   ],
   "source": [
    "cadena.count('o')"
   ]
  },
  {
   "cell_type": "code",
   "execution_count": 60,
   "id": "77745a36",
   "metadata": {},
   "outputs": [
    {
     "data": {
      "text/plain": [
       "5"
      ]
     },
     "execution_count": 60,
     "metadata": {},
     "output_type": "execute_result"
    }
   ],
   "source": [
    "cadena.find('mun')"
   ]
  },
  {
   "cell_type": "code",
   "execution_count": 61,
   "id": "4a75f24b",
   "metadata": {},
   "outputs": [
    {
     "data": {
      "text/plain": [
       "['hola', 'mundo']"
      ]
     },
     "execution_count": 61,
     "metadata": {},
     "output_type": "execute_result"
    }
   ],
   "source": [
    "cadena.split()"
   ]
  },
  {
   "cell_type": "code",
   "execution_count": 62,
   "id": "d34ec831",
   "metadata": {},
   "outputs": [
    {
     "data": {
      "text/plain": [
       "['hola', 'mundo']"
      ]
     },
     "execution_count": 62,
     "metadata": {},
     "output_type": "execute_result"
    }
   ],
   "source": [
    "'hola,mundo'.split(',')"
   ]
  },
  {
   "cell_type": "code",
   "execution_count": 63,
   "id": "02601d72",
   "metadata": {},
   "outputs": [
    {
     "data": {
      "text/plain": [
       "'h,o,l,a, ,m,u,n,d,o'"
      ]
     },
     "execution_count": 63,
     "metadata": {},
     "output_type": "execute_result"
    }
   ],
   "source": [
    "','.join(cadena)"
   ]
  },
  {
   "cell_type": "code",
   "execution_count": 65,
   "id": "43a2c15f",
   "metadata": {},
   "outputs": [
    {
     "data": {
      "text/plain": [
       "'Hola Mundo'"
      ]
     },
     "execution_count": 65,
     "metadata": {},
     "output_type": "execute_result"
    }
   ],
   "source": [
    "'    Hola Mundo '.strip()"
   ]
  },
  {
   "cell_type": "code",
   "execution_count": 66,
   "id": "c5f783c1",
   "metadata": {},
   "outputs": [
    {
     "data": {
      "text/plain": [
       "'Hola mundo'"
      ]
     },
     "execution_count": 66,
     "metadata": {},
     "output_type": "execute_result"
    }
   ],
   "source": [
    "'H0la mund0'.replace('0', 'o')"
   ]
  },
  {
   "cell_type": "code",
   "execution_count": null,
   "id": "9d8de0a4",
   "metadata": {},
   "outputs": [],
   "source": []
  },
  {
   "cell_type": "code",
   "execution_count": null,
   "id": "0699b6f2",
   "metadata": {},
   "outputs": [],
   "source": []
  },
  {
   "cell_type": "markdown",
   "id": "c0774c5f",
   "metadata": {},
   "source": []
  }
 ],
 "metadata": {
  "kernelspec": {
   "display_name": "Python 3 (ipykernel)",
   "language": "python",
   "name": "python3"
  },
  "language_info": {
   "codemirror_mode": {
    "name": "ipython",
    "version": 3
   },
   "file_extension": ".py",
   "mimetype": "text/x-python",
   "name": "python",
   "nbconvert_exporter": "python",
   "pygments_lexer": "ipython3",
   "version": "3.10.1"
  }
 },
 "nbformat": 4,
 "nbformat_minor": 5
}
